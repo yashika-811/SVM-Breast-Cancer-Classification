{
  "nbformat": 4,
  "nbformat_minor": 0,
  "metadata": {
    "colab": {
      "provenance": [],
      "authorship_tag": "ABX9TyOxuDutd9UraQF2LVgvgv2U",
      "include_colab_link": true
    },
    "kernelspec": {
      "name": "python3",
      "display_name": "Python 3"
    },
    "language_info": {
      "name": "python"
    }
  },
  "cells": [
    {
      "cell_type": "markdown",
      "metadata": {
        "id": "view-in-github",
        "colab_type": "text"
      },
      "source": [
        "<a href=\"https://colab.research.google.com/github/yashika-811/SVM-Breast-Cancer-Classification/blob/main/task7.ipynb\" target=\"_parent\"><img src=\"https://colab.research.google.com/assets/colab-badge.svg\" alt=\"Open In Colab\"/></a>"
      ]
    },
    {
      "cell_type": "code",
      "execution_count": 1,
      "metadata": {
        "id": "q_s5bxJf8BjS"
      },
      "outputs": [],
      "source": [
        "import pandas as pd\n",
        "import numpy as np\n",
        "\n",
        "from sklearn.datasets import load_breast_cancer\n",
        "from sklearn.model_selection import train_test_split\n",
        "from sklearn.preprocessing import StandardScaler\n",
        "from sklearn.svm import SVC\n",
        "from sklearn.metrics import accuracy_score, confusion_matrix, classification_report"
      ]
    },
    {
      "cell_type": "code",
      "source": [
        "##loading of dataset to data frame\n",
        "\n",
        "data = load_breast_cancer()\n",
        "X_full = pd.DataFrame(data.data, columns=data.feature_names)\n",
        "y_full = pd.Series(data.target, name=\"target\")\n",
        "\n",
        "print(\"Shape:\", X_full.shape)\n",
        "print(X_full.head(3))\n",
        "print(\"Classes:\", data.target_names.tolist())"
      ],
      "metadata": {
        "colab": {
          "base_uri": "https://localhost:8080/"
        },
        "id": "V3AA3CdO8XHA",
        "outputId": "e73c28b7-8727-4350-b4eb-3f7cac3c8870"
      },
      "execution_count": 2,
      "outputs": [
        {
          "output_type": "stream",
          "name": "stdout",
          "text": [
            "Shape: (569, 30)\n",
            "   mean radius  mean texture  mean perimeter  mean area  mean smoothness  \\\n",
            "0        17.99         10.38           122.8     1001.0          0.11840   \n",
            "1        20.57         17.77           132.9     1326.0          0.08474   \n",
            "2        19.69         21.25           130.0     1203.0          0.10960   \n",
            "\n",
            "   mean compactness  mean concavity  mean concave points  mean symmetry  \\\n",
            "0           0.27760          0.3001              0.14710         0.2419   \n",
            "1           0.07864          0.0869              0.07017         0.1812   \n",
            "2           0.15990          0.1974              0.12790         0.2069   \n",
            "\n",
            "   mean fractal dimension  ...  worst radius  worst texture  worst perimeter  \\\n",
            "0                 0.07871  ...         25.38          17.33            184.6   \n",
            "1                 0.05667  ...         24.99          23.41            158.8   \n",
            "2                 0.05999  ...         23.57          25.53            152.5   \n",
            "\n",
            "   worst area  worst smoothness  worst compactness  worst concavity  \\\n",
            "0      2019.0            0.1622             0.6656           0.7119   \n",
            "1      1956.0            0.1238             0.1866           0.2416   \n",
            "2      1709.0            0.1444             0.4245           0.4504   \n",
            "\n",
            "   worst concave points  worst symmetry  worst fractal dimension  \n",
            "0                0.2654          0.4601                  0.11890  \n",
            "1                0.1860          0.2750                  0.08902  \n",
            "2                0.2430          0.3613                  0.08758  \n",
            "\n",
            "[3 rows x 30 columns]\n",
            "Classes: ['malignant', 'benign']\n"
          ]
        }
      ]
    },
    {
      "cell_type": "code",
      "source": [
        "X_train, X_test, y_train, y_test = train_test_split(\n",
        "    X_full, y_full, test_size=0.2, random_state=42, stratify=y_full\n",
        ")\n",
        "\n",
        "\n",
        "scaler = StandardScaler()\n",
        "X_train_scaled = scaler.fit_transform(X_train)   # learn mean/std on train\n",
        "X_test_scaled  = scaler.transform(X_test)        # apply same scaling to test"
      ],
      "metadata": {
        "id": "Cd0UcsaA82vr"
      },
      "execution_count": 4,
      "outputs": []
    },
    {
      "cell_type": "code",
      "source": [
        "\n",
        "rbf_svm = SVC(kernel='rbf', C=1.0, gamma='scale')\n",
        "rbf_svm.fit(X_train_scaled, y_train)\n",
        "\n",
        "# Predict\n",
        "y_pred_rbf = rbf_svm.predict(X_test_scaled)\n",
        "\n",
        "# Evaluate\n",
        "print(\"\\n=== RBF SVM ===\")\n",
        "print(\"Accuracy:\", accuracy_score(y_test, y_pred_rbf))\n",
        "print(\"Confusion Matrix:\\n\", confusion_matrix(y_test, y_pred_rbf))\n",
        "print(\"Classification Report:\\n\", classification_report(y_test, y_pred_rbf, target_names=data.target_names))"
      ],
      "metadata": {
        "colab": {
          "base_uri": "https://localhost:8080/"
        },
        "id": "_CXwUzvu9D-M",
        "outputId": "cc13f628-fa03-4904-d5d4-d620c0af584c"
      },
      "execution_count": 5,
      "outputs": [
        {
          "output_type": "stream",
          "name": "stdout",
          "text": [
            "\n",
            "=== RBF SVM ===\n",
            "Accuracy: 0.9824561403508771\n",
            "Confusion Matrix:\n",
            " [[41  1]\n",
            " [ 1 71]]\n",
            "Classification Report:\n",
            "               precision    recall  f1-score   support\n",
            "\n",
            "   malignant       0.98      0.98      0.98        42\n",
            "      benign       0.99      0.99      0.99        72\n",
            "\n",
            "    accuracy                           0.98       114\n",
            "   macro avg       0.98      0.98      0.98       114\n",
            "weighted avg       0.98      0.98      0.98       114\n",
            "\n"
          ]
        }
      ]
    },
    {
      "cell_type": "code",
      "metadata": {
        "colab": {
          "base_uri": "https://localhost:8080/"
        },
        "id": "9927ae82",
        "outputId": "f4330d48-1b59-4a17-8c14-992e209163b2"
      },
      "source": [
        "linear_svm = SVC(kernel='linear', C=1.0)\n",
        "linear_svm.fit(X_train_scaled, y_train)\n",
        "\n",
        "# Predict\n",
        "y_pred_linear = linear_svm.predict(X_test_scaled)\n",
        "\n",
        "# Evaluate\n",
        "print(\"\\n=== Linear SVM ===\")\n",
        "print(\"Accuracy:\", accuracy_score(y_test, y_pred_linear))\n",
        "print(\"Confusion Matrix:\\n\", confusion_matrix(y_test, y_pred_linear))\n",
        "print(\"Classification Report:\\n\", classification_report(y_test, y_pred_linear, target_names=data.target_names))"
      ],
      "execution_count": 8,
      "outputs": [
        {
          "output_type": "stream",
          "name": "stdout",
          "text": [
            "\n",
            "=== Linear SVM ===\n",
            "Accuracy: 0.9736842105263158\n",
            "Confusion Matrix:\n",
            " [[41  1]\n",
            " [ 2 70]]\n",
            "Classification Report:\n",
            "               precision    recall  f1-score   support\n",
            "\n",
            "   malignant       0.95      0.98      0.96        42\n",
            "      benign       0.99      0.97      0.98        72\n",
            "\n",
            "    accuracy                           0.97       114\n",
            "   macro avg       0.97      0.97      0.97       114\n",
            "weighted avg       0.97      0.97      0.97       114\n",
            "\n"
          ]
        }
      ]
    }
  ]
}